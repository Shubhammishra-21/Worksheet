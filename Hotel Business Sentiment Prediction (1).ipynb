{
 "cells": [
  {
   "cell_type": "code",
   "execution_count": null,
   "metadata": {},
   "outputs": [],
   "source": [
    "!pip install twython"
   ]
  },
  {
   "cell_type": "code",
   "execution_count": null,
   "metadata": {},
   "outputs": [],
   "source": [
    "import twython #actively maintained, pure Python wrapper for the Twitter API\n",
    "import pandas as pd #in order to read the CSV file\n",
    "import numpy as np #for mathematic and conditions\n",
    "import nltk #download VADER library\n",
    "nltk.download('vader_lexicon')\n",
    "from nltk.sentiment.vader import SentimentIntensityAnalyzer #importing the sentiment analysis tool\n"
   ]
  },
  {
   "cell_type": "code",
   "execution_count": null,
   "metadata": {},
   "outputs": [],
   "source": [
    "\n"
   ]
  },
  {
   "cell_type": "code",
   "execution_count": null,
   "metadata": {
    "scrolled": true
   },
   "outputs": [],
   "source": [
    "\n",
    "import pandas as pd\n",
    "pandas._libs.hashtable.PyObjectHashTable.get_item()\n",
    "pandas._libs.index.IndexEngine.get_loc()\n",
    "\n",
    "#read Hotel Reviews file\n",
    "HotelReview = pd.read_csv('Hotel_Reviews.csv')\n",
    "\n",
    "\n",
    "#set up conditions to classify the reviews\n",
    "Conditions = [((HotelReview['Lower_Positive'] == 'everything') & (HotelReview['Lower_Negative'] == 'no negative')) |\n",
    "              ((HotelReview['Lower_Positive'] == 'everything') & (HotelReview['Lower_Negative'] == 'nothing')),\n",
    "              ((HotelReview['Lower_Negative'] == 'everything') & (HotelReview['Lower_Positive'] == 'no positive')) |\n",
    "              ((HotelReview['Lower_Negative'] == 'everything') & (HotelReview['Lower_Positive'] == 'nothing')),\n",
    "              (HotelReview['Lower_Negative'] == 'no negative') | (HotelReview['Lower_Negative'] == 'nothing'),\n",
    "              (HotelReview['Lower_Positive'] == 'no positive') | (HotelReview['Lower_Positive'] == 'nothing')]\n",
    "\n",
    "\n",
    "#set up choices for the conditions\n",
    "choices = [1, 2, 3,4]\n",
    "\n",
    "\n",
    "\n",
    "#apply conditions and choices on the Hotel Review data\n",
    "HotelReview['Review_Count'] = np.select(Conditions, Choices1, default=5)\n",
    "\n",
    "\n",
    "#link the Vader sentiment intensity analyzer\n",
    "sid = SentimentIntensityAnalyzer()\n",
    "\n",
    "\n",
    "#create a sentiment analyze function\n",
    "def SentimentAnalyze():\n",
    "   for i,count in enumerate(HotelReview['Review_Count']):\n",
    "       if count == 1:\n",
    "           HotelReview.loc[i,'Review_Sentiment_Score'] = 1 #return 1 for review count 1\n",
    "       elif count == 2:\n",
    "           HotelReview.loc[i, 'Review_Sentiment_Score'] = -1 #return -1 for review count 2\n",
    "       elif count == 3:\n",
    "           review = HotelReview.loc[i,'Positive_Review']\n",
    "           HotelReview.loc[i, 'Review_Sentiment_Score'] = sid.polarity_scores(review)['compound'] #return compound score for review count 3\n",
    "       elif count == 4:\n",
    "           review = HotelReview.loc[i,'Negative_Review']\n",
    "           HotelReview.loc[i, 'Review_Sentiment_Score'] = sid.polarity_scores(review)['compound'] #return compound score for review count 4\n",
    "       else:\n",
    "           review = HotelReview.loc[i,'Negative_Review'] + ' ' + HotelReview.loc[i,'Positive_Review']\n",
    "           HotelReview.loc[i, 'Review_Sentiment_Score'] = sid.polarity_scores(review)['compound'] #return compound score for review count 5\n",
    "\n",
    "\n",
    "#apply the function\n",
    "SentimentAnalyze()\n",
    "\n"
   ]
  },
  {
   "cell_type": "code",
   "execution_count": null,
   "metadata": {},
   "outputs": [],
   "source": []
  }
 ],
 "metadata": {
  "kernelspec": {
   "display_name": "Python 3",
   "language": "python",
   "name": "python3"
  },
  "language_info": {
   "codemirror_mode": {
    "name": "ipython",
    "version": 3
   },
   "file_extension": ".py",
   "mimetype": "text/x-python",
   "name": "python",
   "nbconvert_exporter": "python",
   "pygments_lexer": "ipython3",
   "version": "3.7.4"
  }
 },
 "nbformat": 4,
 "nbformat_minor": 2
}
